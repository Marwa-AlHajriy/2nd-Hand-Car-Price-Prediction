{
 "cells": [
  {
   "cell_type": "markdown",
   "id": "05df3ca2-6108-40f2-937a-a8a517408d4a",
   "metadata": {},
   "source": [
    "# 2nd Hand Car Price Prediction\n",
    "\n",
    "In this project we analyze the 'Used Cars' dataset from kaggle (https://www.kaggle.com/datasets/austinreese/craigslist-carstrucks-data?select=vehicles.csv). \n",
    "\n",
    "The goal is to build a model that could estimate the price of second hand cars based on relevant features. We explore the data through cleanig and preprocessing, handling outliers, feature engineering and eventually testing different regression models to get the most accurate predictor."
   ]
  },
  {
   "cell_type": "code",
   "execution_count": 2,
   "id": "7422c9e6-cde3-4a09-9a81-d3d88af72d38",
   "metadata": {},
   "outputs": [],
   "source": [
    "import pandas as pd\n",
    "import numpy as np\n",
    "import matplotlib\n",
    "from matplotlib import pyplot as plt\n",
    "import seaborn as sns\n",
    "%matplotlib inline\n",
    "matplotlib.rcParams['figure.figsize']= (20,10)"
   ]
  },
  {
   "cell_type": "code",
   "execution_count": 3,
   "id": "20a7a16a-b9fe-41e7-be6d-88f7c64a2142",
   "metadata": {},
   "outputs": [],
   "source": [
    "df1 = pd.read_csv(\"/Users/marwa/Desktop/2ndHCP/model/vehicles.csv\")"
   ]
  },
  {
   "cell_type": "markdown",
   "id": "677f2a87-fc95-4b4f-9ca0-8d3e3bd2e776",
   "metadata": {},
   "source": [
    "The dataset has 426,880 rows and 26 columns"
   ]
  },
  {
   "cell_type": "markdown",
   "id": "65de9271-810a-464b-9757-c289b4e9e387",
   "metadata": {},
   "source": [
    "# Data Cleaning"
   ]
  },
  {
   "cell_type": "code",
   "execution_count": 6,
   "id": "bf1cf440-e269-4cf9-a953-91743938c7a0",
   "metadata": {},
   "outputs": [],
   "source": [
    "#Drop irrelevant features:\n",
    "df2= df1.drop(['id', 'url', 'region_url', 'image_url', 'description', 'lat', \n",
    "               'long','region', 'VIN', 'title_status', 'type', 'cylinders', 'county', 'model'], axis= 'columns')"
   ]
  },
  {
   "cell_type": "code",
   "execution_count": 7,
   "id": "6819a0b6-eace-4472-81ac-f41381efa8a0",
   "metadata": {},
   "outputs": [
    {
     "data": {
      "text/plain": [
       "price            0.000000\n",
       "year             0.282281\n",
       "manufacturer     4.133714\n",
       "condition       40.785232\n",
       "fuel             0.705819\n",
       "odometer         1.030735\n",
       "transmission     0.598763\n",
       "drive           30.586347\n",
       "size            71.767476\n",
       "paint_color     30.501078\n",
       "state            0.000000\n",
       "posting_date     0.015930\n",
       "dtype: float64"
      ]
     },
     "execution_count": 7,
     "metadata": {},
     "output_type": "execute_result"
    }
   ],
   "source": [
    "# Handling missing values \n",
    "\n",
    "#check columns with nan>50%\n",
    "df2.isnull().mean()*100"
   ]
  },
  {
   "cell_type": "code",
   "execution_count": 8,
   "id": "e8f7bea5-7f09-4782-96d3-2f0e78690c16",
   "metadata": {},
   "outputs": [],
   "source": [
    "#remove size feature with 71% NaN  \n",
    "#dataset is large it is efficiet enough to remove all rows with NaN\n",
    "df2= df2.drop('size', axis='columns')\n",
    "df3 = df2.dropna()"
   ]
  },
  {
   "cell_type": "markdown",
   "id": "d9b2c079-229e-47ae-8ae4-95c079ab060f",
   "metadata": {},
   "source": [
    "# Feature Engineering"
   ]
  },
  {
   "cell_type": "markdown",
   "id": "fa0b9ce9-19bf-49be-9a6d-b7d748b2db5d",
   "metadata": {},
   "source": [
    "Remove 'harley-davidson' from manufacturer as it is a motorcycle brand"
   ]
  },
  {
   "cell_type": "code",
   "execution_count": 34,
   "id": "0e4cd253-7fb8-4cfc-9178-4126930a8a40",
   "metadata": {},
   "outputs": [],
   "source": [
    "df4= df3[~(df3.manufacturer== 'harley-davidson')]"
   ]
  },
  {
   "cell_type": "markdown",
   "id": "b13d600e-2791-4b28-b221-290fa432e931",
   "metadata": {},
   "source": [
    "Group the manufacturers with counts <100 together as 'other'"
   ]
  },
  {
   "cell_type": "code",
   "execution_count": 37,
   "id": "bea176c0-a921-4679-b83a-3a6c64a96ce7",
   "metadata": {},
   "outputs": [
    {
     "name": "stderr",
     "output_type": "stream",
     "text": [
      "/var/folders/s3/24r6s08x3pg9xyqf7659_57h0000gn/T/ipykernel_2792/2541273670.py:3: SettingWithCopyWarning: \n",
      "A value is trying to be set on a copy of a slice from a DataFrame.\n",
      "Try using .loc[row_indexer,col_indexer] = value instead\n",
      "\n",
      "See the caveats in the documentation: https://pandas.pydata.org/pandas-docs/stable/user_guide/indexing.html#returning-a-view-versus-a-copy\n",
      "  df4.manufacturer= df4.manufacturer.apply(lambda x: 'other' if x in manufacturer_less_than_100 else x)\n"
     ]
    }
   ],
   "source": [
    "manufacturer_count= df4.groupby('manufacturer')['manufacturer'].agg('count').sort_values(ascending = False)\n",
    "manufacturer_less_than_100 = manufacturer_count[manufacturer_count<100]\n",
    "df4.manufacturer= df4.manufacturer.apply(lambda x: 'other' if x in manufacturer_less_than_100 else x)"
   ]
  },
  {
   "cell_type": "markdown",
   "id": "321f1214-2b68-4ecf-b930-c3d972fc7408",
   "metadata": {},
   "source": [
    "Extract age of each vehicle"
   ]
  },
  {
   "cell_type": "code",
   "execution_count": 40,
   "id": "940908a2-ec71-445d-a9bc-84327503ad74",
   "metadata": {},
   "outputs": [
    {
     "name": "stderr",
     "output_type": "stream",
     "text": [
      "/var/folders/s3/24r6s08x3pg9xyqf7659_57h0000gn/T/ipykernel_2792/3632326539.py:3: SettingWithCopyWarning: \n",
      "A value is trying to be set on a copy of a slice from a DataFrame.\n",
      "Try using .loc[row_indexer,col_indexer] = value instead\n",
      "\n",
      "See the caveats in the documentation: https://pandas.pydata.org/pandas-docs/stable/user_guide/indexing.html#returning-a-view-versus-a-copy\n",
      "  df4['posting_date'] = pd.to_datetime(df4['posting_date'], utc=True)\n",
      "/var/folders/s3/24r6s08x3pg9xyqf7659_57h0000gn/T/ipykernel_2792/3632326539.py:6: SettingWithCopyWarning: \n",
      "A value is trying to be set on a copy of a slice from a DataFrame.\n",
      "Try using .loc[row_indexer,col_indexer] = value instead\n",
      "\n",
      "See the caveats in the documentation: https://pandas.pydata.org/pandas-docs/stable/user_guide/indexing.html#returning-a-view-versus-a-copy\n",
      "  df4['posting_year'] = df4['posting_date'].dt.year\n"
     ]
    }
   ],
   "source": [
    "# want the feature post_date to be a year only\n",
    "#first we convert it to a date time for easier manipulation\n",
    "df4['posting_date'] = pd.to_datetime(df4['posting_date'], utc=True)\n",
    "\n",
    "#extract the year out of it using dt.year and create a new column\n",
    "df4['posting_year'] = df4['posting_date'].dt.year\n",
    "\n",
    "#remove postiing date column\n",
    "df4= df4.drop('posting_date', axis= 'columns')\n",
    "\n",
    "#int32 \n",
    "df4['year']= df4['year'].astype('int32')\n",
    "\n",
    "df5 = df4.copy()\n",
    "\n",
    "#calculate age of vehicle\n",
    "df5['vehicle_age'] = df5['posting_year']-df5['year']\n",
    "\n",
    "df5=df5.drop(['year', 'posting_year'], axis= 'columns')"
   ]
  },
  {
   "cell_type": "markdown",
   "id": "04e04dbf-cd2c-4eb7-82e6-9d09d132c4fc",
   "metadata": {},
   "source": [
    "# Data Cleaning (continued) & Preprocessing\n",
    "- Outlier Removal\n",
    "- Duplicates"
   ]
  },
  {
   "cell_type": "markdown",
   "id": "2f40782a-367e-4c43-808c-563ea7826a86",
   "metadata": {},
   "source": [
    "Target variable price "
   ]
  },
  {
   "cell_type": "code",
   "execution_count": 71,
   "id": "ee845231-a321-407e-8293-116fd7baf50b",
   "metadata": {},
   "outputs": [
    {
     "data": {
      "image/png": "[encoded data removed]",
      "text/plain": [
       "<Figure size 800x400 with 2 Axes>"
      ]
     },
     "metadata": {},
     "output_type": "display_data"
    }
   ],
   "source": [
    "#Visualising target variable price \n",
    "\n",
    "plt.figure(figsize=(8, 4))\n",
    "plt.subplot(1,2,1)\n",
    "sns.histplot(df5['price'], bins=50, kde=True)\n",
    "plt.title('Histogram of Price Distribution')\n",
    "plt.xlabel('Price')\n",
    "plt.ylabel('Frequency')\n",
    "\n",
    "plt.subplot(1,2,2)\n",
    "sns.boxplot(x=df5['price'])\n",
    "plt.title('Box Plot of Price Distribution')\n",
    "plt.show()"
   ]
  },
  {
   "cell_type": "code",
   "execution_count": 46,
   "id": "de8ee474-4303-4559-b749-9dde04b1fd39",
   "metadata": {},
   "outputs": [
    {
     "data": {
      "text/plain": [
       "count    1.539630e+05\n",
       "mean     7.590059e+04\n",
       "std      1.377825e+07\n",
       "min      0.000000e+00\n",
       "25%      6.000000e+03\n",
       "50%      1.289900e+04\n",
       "75%      2.399500e+04\n",
       "85%      3.097700e+04\n",
       "90%      3.499500e+04\n",
       "100%     3.736929e+09\n",
       "max      3.736929e+09\n",
       "Name: price, dtype: float64"
      ]
     },
     "execution_count": 46,
     "metadata": {},
     "output_type": "execute_result"
    }
   ],
   "source": [
    "# check price range\n",
    "\n",
    "df5.price.describe(percentiles = [0.25,0.50,0.75,0.85,0.90,1])"
   ]
  },
  {
   "cell_type": "code",
   "execution_count": 50,
   "id": "01eeb033-317b-4e38-a8d9-99f3886b7a38",
   "metadata": {},
   "outputs": [
    {
     "name": "stderr",
     "output_type": "stream",
     "text": [
      "/var/folders/s3/24r6s08x3pg9xyqf7659_57h0000gn/T/ipykernel_2792/2559694849.py:3: UserWarning: Boolean Series key will be reindexed to match DataFrame index.\n",
      "  df6[df5['price']==0]\n"
     ]
    }
   ],
   "source": [
    "#std extremely high relative to the mean. Possible presence of outliers.\n",
    "#min=0 indicates that there're samples with no price!! this can't be marketable.\n",
    "#max= 3.74 billion! is extremely high for a car price! Could be an outlier\n",
    "\n",
    "\n",
    "#remove price=0\n",
    "df6= df5[~(df5.price==0)]\n",
    "df6[df5['price']==0]\n",
    "\n",
    "#Prices vary in different states\n",
    "#remove outliers using IQ method on price per state\n",
    "def remove_outliers(df):\n",
    "    df_out= pd.DataFrame()\n",
    "    #group by state\n",
    "    for key, subdf in df.groupby('state'):\n",
    "    \n",
    "        Q1= subdf['price'].quantile(0.25)\n",
    "        Q3= subdf['price'].quantile(0.75)\n",
    "        IQR= Q3-Q1\n",
    "\n",
    "        #define bounds\n",
    "        lower= Q1 - 1.5 * IQR\n",
    "        upper= Q3 + 1.5 * IQR\n",
    "        \n",
    "        #select prices per state within the bounds\n",
    "        reduced_df= subdf[(subdf.price>= lower) & (subdf.price<= upper) ]\n",
    "        df_out= pd.concat([df_out, reduced_df], ignore_index=True)\n",
    "        \n",
    "    return df_out\n",
    "\n",
    "df7=remove_outliers(df6)"
   ]
  },
  {
   "cell_type": "code",
   "execution_count": 69,
   "id": "e51b263b-5d7f-4abb-8ce8-1a354e4e1ed3",
   "metadata": {},
   "outputs": [
    {
     "data": {
      "image/png": "[encoded data removed]",
      "text/plain": [
       "<Figure size 800x400 with 2 Axes>"
      ]
     },
     "metadata": {},
     "output_type": "display_data"
    }
   ],
   "source": [
    "# visualise Price again\n",
    "\n",
    "plt.figure(figsize=(8,4))\n",
    "plt.subplot(1,2,1)\n",
    "sns.histplot(df7['price'], bins=50, kde=True)\n",
    "plt.title('Histogram of Price Distribution')\n",
    "plt.xlabel('Price')\n",
    "plt.ylabel('Frequency')\n",
    "\n",
    "plt.subplot(1,2,2)\n",
    "sns.boxplot(x=df7['price'])\n",
    "plt.title('Box Plot of Price Distribution')\n",
    "plt.show()"
   ]
  },
  {
   "cell_type": "markdown",
   "id": "5da0ee86-4daa-4ca7-a8c7-f18c735048e1",
   "metadata": {},
   "source": [
    "Odometer/ mileage feature"
   ]
  },
  {
   "cell_type": "code",
   "execution_count": 74,
   "id": "c457422c-ea2c-4f5d-855a-d30e0d286e28",
   "metadata": {},
   "outputs": [
    {
     "data": {
      "text/plain": [
       "count    1.453330e+05\n",
       "mean     1.043514e+05\n",
       "std      1.796574e+05\n",
       "min      0.000000e+00\n",
       "25%      4.400000e+04\n",
       "50%      9.720000e+04\n",
       "75%      1.438760e+05\n",
       "85%      1.688034e+05\n",
       "90%      1.863488e+05\n",
       "100%     1.000000e+07\n",
       "max      1.000000e+07\n",
       "Name: odometer, dtype: float64"
      ]
     },
     "execution_count": 74,
     "metadata": {},
     "output_type": "execute_result"
    }
   ],
   "source": [
    "df7['odometer'].describe(percentiles = [0.25,0.50,0.75,0.85,0.90,1]) "
   ]
  },
  {
   "cell_type": "code",
   "execution_count": 76,
   "id": "68b30f85-ef6f-40fc-b642-67d81a2afe18",
   "metadata": {},
   "outputs": [
    {
     "data": {
      "image/png": "[encoded data removed]",
      "text/plain": [
       "<Figure size 800x400 with 2 Axes>"
      ]
     },
     "metadata": {},
     "output_type": "display_data"
    }
   ],
   "source": [
    "#Visualise odometer\n",
    "\n",
    "plt.figure(figsize=(8,4))\n",
    "plt.subplot(1,2,1)\n",
    "sns.histplot(df7['odometer'], bins=50, kde=True)\n",
    "plt.title('Histogram of Odometer Distribution')\n",
    "plt.xlabel('Odometer')\n",
    "plt.ylabel('Frequency')\n",
    "\n",
    "plt.subplot(1,2,2)\n",
    "sns.boxplot(x=df7['odometer'])\n",
    "plt.title('Box Plot of Odometer Distribution')\n",
    "plt.show()"
   ]
  },
  {
   "cell_type": "code",
   "execution_count": 78,
   "id": "7072fd14-7dfe-4bcb-b71e-260b2333de1f",
   "metadata": {},
   "outputs": [
    {
     "data": {
      "image/png": "[encoded data removed]",
      "text/plain": [
       "<Figure size 800x400 with 2 Axes>"
      ]
     },
     "metadata": {},
     "output_type": "display_data"
    }
   ],
   "source": [
    "#remove samples with odometer<1000 (considered a new car)\n",
    "#remove samples with odometer> 500,000 as they are unmarketable\n",
    "df8= df7[(df7.odometer>1000) & (df7.odometer<=500000)]\n",
    "\n",
    "#visualise \n",
    "plt.figure(figsize=(8,4))\n",
    "plt.subplot(1,2,1)\n",
    "sns.histplot(df8['odometer'], bins=50, kde=True)\n",
    "plt.title('Histogram of Odometer Distribution')\n",
    "plt.xlabel('Odometer')\n",
    "plt.ylabel('Frequency')\n",
    "\n",
    "plt.subplot(1,2,2)\n",
    "sns.boxplot(x=df8['odometer'])\n",
    "plt.title('Box Plot of Odometer Distribution')\n",
    "plt.show()"
   ]
  },
  {
   "cell_type": "markdown",
   "id": "a4cd296f-f765-49a8-a683-bfac34262cf8",
   "metadata": {},
   "source": [
    "Age of vehicle feature"
   ]
  },
  {
   "cell_type": "code",
   "execution_count": 81,
   "id": "8f75a158-4a91-493c-96ea-7d030278f0c8",
   "metadata": {},
   "outputs": [
    {
     "data": {
      "text/plain": [
       "count    143024.000000\n",
       "mean         10.840684\n",
       "std           9.184676\n",
       "min          -1.000000\n",
       "25%           5.000000\n",
       "50%           9.000000\n",
       "75%          14.000000\n",
       "85%          17.000000\n",
       "90%          19.000000\n",
       "100%        121.000000\n",
       "max         121.000000\n",
       "Name: vehicle_age, dtype: float64"
      ]
     },
     "execution_count": 81,
     "metadata": {},
     "output_type": "execute_result"
    }
   ],
   "source": [
    "df8['vehicle_age'].describe(percentiles = [0.25,0.50,0.75,0.85,0.90,1]) "
   ]
  },
  {
   "cell_type": "code",
   "execution_count": 83,
   "id": "5f3e41cc-9306-44ba-b18e-7ea7f49deb5f",
   "metadata": {},
   "outputs": [
    {
     "data": {
      "text/plain": [
       "Text(0.5, 1.0, 'Box Plot of Age Distribution')"
      ]
     },
     "execution_count": 83,
     "metadata": {},
     "output_type": "execute_result"
    },
    {
     "data": {
      "image/png": "[encoded data removed]",
      "text/plain": [
       "<Figure size 800x400 with 2 Axes>"
      ]
     },
     "metadata": {},
     "output_type": "display_data"
    }
   ],
   "source": [
    "#visualise vehicle_age\n",
    "plt.figure(figsize=(8,4))\n",
    "plt.subplot(1,2,1)\n",
    "sns.histplot(df8['vehicle_age'], bins=50, kde=True)\n",
    "plt.title('Histogram of Age Distribution')\n",
    "plt.xlabel('Age')\n",
    "plt.ylabel('Frequency')\n",
    "plt.subplot(1,2,2)\n",
    "sns.boxplot(x=df8['vehicle_age'])\n",
    "plt.title('Box Plot of Age Distribution')\n"
   ]
  },
  {
   "cell_type": "code",
   "execution_count": 96,
   "id": "3b63bc9b-a70f-4ad2-805d-b1e52e5b8990",
   "metadata": {},
   "outputs": [],
   "source": [
    "#remove cars with age<=0 (errors or new cars)\n",
    "#split our data into: vintage-classic cars (age>=30) and non vintage cars (age<30)\n",
    "\n",
    "#non vintage cars\n",
    "df_nonvintage= df8[(df8.vehicle_age>0) & (df8.vehicle_age<30)]\n",
    "\n",
    "#vintage cars\n",
    "df_vintage= df8[(df8.vehicle_age>=30) & (df8.vehicle_age<=100)]"
   ]
  },
  {
   "cell_type": "markdown",
   "id": "c0d87f0d-4802-44a2-9aeb-0e08ba239eac",
   "metadata": {},
   "source": [
    "Checking for Duplicates with our final data"
   ]
  },
  {
   "cell_type": "code",
   "execution_count": 99,
   "id": "00132f02-5b35-4ead-a061-3ce59bdba19a",
   "metadata": {},
   "outputs": [
    {
     "name": "stdout",
     "output_type": "stream",
     "text": [
      "Duplicates in nonvintage data:\n",
      "  34750\n",
      "Duplicates in nonvintage data:\n",
      "  0\n"
     ]
    }
   ],
   "source": [
    "print('Duplicates in nonvintage data:\\n ', df_nonvintage.duplicated().sum())\n",
    "#removing duplicates\n",
    "df_nonvintage= df_nonvintage.drop_duplicates()\n",
    "print('Duplicates in nonvintage data:\\n ', df_nonvintage.duplicated().sum())"
   ]
  },
  {
   "cell_type": "markdown",
   "id": "81e8f088-7789-4392-a0d9-ba7c21c5827b",
   "metadata": {},
   "source": [
    "One hot encoding"
   ]
  },
  {
   "cell_type": "code",
   "execution_count": 92,
   "id": "26dee18b-064e-4e4f-82e3-a04964e64c01",
   "metadata": {},
   "outputs": [],
   "source": [
    "#non vintage cars\n",
    "df_nonvintage_encoded= pd.get_dummies(df_nonvintage, columns=['manufacturer', 'condition', 'fuel','transmission', 'drive',\n",
    "                                      'paint_color', 'state'],  dtype=int, prefix='', prefix_sep='')\n",
    "\n",
    "\n",
    "#remove 1 level from each categorical feature to avoid multicollinearity\n",
    "#state= nd (least count), pain_color=custom, fuel= other, transmission= other, drive= rwd  (least count), \n",
    "#condition= salvage (least count), manufacturer= other \n",
    "df_nonvintage_encoded.drop(['nd','other','custom','other','other','rwd','salvage'], axis='columns', inplace=True)"
   ]
  },
  {
   "cell_type": "markdown",
   "id": "75b2d010-fb60-4435-ae2d-8156e40aa114",
   "metadata": {},
   "source": [
    "# Modeling and Evaluation"
   ]
  },
  {
   "cell_type": "code",
   "execution_count": 101,
   "id": "b68b6e56-fdba-46ca-944a-8253eee94673",
   "metadata": {},
   "outputs": [],
   "source": [
    "#split into x(input) and y (target/output)\n",
    "\n",
    "x_nonvintage=df_nonvintage_encoded.drop('price', axis='columns')\n",
    "y_nonvintage= df_nonvintage_encoded.price"
   ]
  },
  {
   "cell_type": "markdown",
   "id": "ce805f7b-d79a-412b-a308-5e4d66572a18",
   "metadata": {},
   "source": [
    "Split to train and test"
   ]
  },
  {
   "cell_type": "code",
   "execution_count": 103,
   "id": "35ae9117-ea45-4af9-bec4-4500d5e1bed0",
   "metadata": {},
   "outputs": [],
   "source": [
    "from sklearn.model_selection import train_test_split\n",
    "\n",
    "#since nonvintage cars dataset contains 102,433 samples an 80/20 split will suffice\n",
    "x_nonvintage_train, x_nonvintage_test,y_nonvintage_train, y_nonvintage_test= train_test_split(x_nonvintage, y_nonvintage, \n",
    "                                                                                              test_size= 0.2, random_state=123) "
   ]
  },
  {
   "cell_type": "markdown",
   "id": "e24a50fa-7ff7-43f7-b1d4-bf3b5913cd1c",
   "metadata": {},
   "source": [
    "Linear regression"
   ]
  },
  {
   "cell_type": "code",
   "execution_count": 115,
   "id": "73e74cbe-d6e2-4493-9a89-af2d2bc648c2",
   "metadata": {},
   "outputs": [
    {
     "data": {
      "text/plain": [
       "0.6896305626408984"
      ]
     },
     "execution_count": 115,
     "metadata": {},
     "output_type": "execute_result"
    }
   ],
   "source": [
    "from sklearn.linear_model import LinearRegression\n",
    "\n",
    "lr_nonvintage= LinearRegression()\n",
    "\n",
    "#fit \n",
    "lr_nonvintage.fit(x_nonvintage_train, y_nonvintage_train)\n",
    "#evaluete the model\n",
    "lr_nonvintage.score(x_nonvintage_test, y_nonvintage_test)"
   ]
  },
  {
   "cell_type": "markdown",
   "id": "ee4048d7-6f0f-44b1-93b2-74762ca6a43a",
   "metadata": {},
   "source": [
    "An R squared score of 69% is not bad but still need to improve the model"
   ]
  },
  {
   "cell_type": "code",
   "execution_count": 118,
   "id": "c0781cd1-6774-421a-888a-b27cbcd6f77d",
   "metadata": {},
   "outputs": [
    {
     "data": {
      "text/plain": [
       "array([0.69093635, 0.68993584, 0.6933841 , 0.69379791, 0.69153015])"
      ]
     },
     "execution_count": 118,
     "metadata": {},
     "output_type": "execute_result"
    }
   ],
   "source": [
    "# k-fold Cross Validation \n",
    "\n",
    "from sklearn.model_selection import ShuffleSplit\n",
    "from sklearn.model_selection import cross_val_score\n",
    "\n",
    "#shufflesplit will randomise the sample to ensure each fold will have equal distribution \n",
    "#of each of the data samples and is not targeted to one area\n",
    "cv= ShuffleSplit(n_splits= 5, test_size=0.2, random_state=0)\n",
    "\n",
    "cross_val_score(LinearRegression(), x_nonvintage, y_nonvintage, cv=cv)"
   ]
  },
  {
   "cell_type": "markdown",
   "id": "06ffe36d-790e-4e08-b1f5-d19f2d458455",
   "metadata": {},
   "source": [
    "In each fold results remain around 69%.\n",
    "\n",
    "We will test different regression models."
   ]
  },
  {
   "cell_type": "code",
   "execution_count": 122,
   "id": "38f03300-3289-415e-abe1-bc974d92430a",
   "metadata": {},
   "outputs": [],
   "source": [
    "from sklearn.model_selection import GridSearchCV\n",
    "from sklearn.linear_model import Lasso\n",
    "from sklearn.tree import DecisionTreeRegressor\n",
    "from sklearn.ensemble import RandomForestRegressor\n",
    "import xgboost as xgb"
   ]
  },
  {
   "cell_type": "code",
   "execution_count": 124,
   "id": "39a6883c-1f3e-4886-8e36-02098f5ad615",
   "metadata": {},
   "outputs": [
    {
     "name": "stderr",
     "output_type": "stream",
     "text": [
      "/opt/anaconda3/lib/python3.12/site-packages/sklearn/linear_model/_coordinate_descent.py:697: ConvergenceWarning: Objective did not converge. You might want to increase the number of iterations, check the scale of the features or consider increasing regularisation. Duality gap: 1.550e+12, tolerance: 1.003e+09\n",
      "  model = cd_fast.enet_coordinate_descent(\n",
      "/opt/anaconda3/lib/python3.12/site-packages/sklearn/linear_model/_coordinate_descent.py:697: ConvergenceWarning: Objective did not converge. You might want to increase the number of iterations, check the scale of the features or consider increasing regularisation. Duality gap: 1.556e+12, tolerance: 1.006e+09\n",
      "  model = cd_fast.enet_coordinate_descent(\n",
      "/opt/anaconda3/lib/python3.12/site-packages/sklearn/linear_model/_coordinate_descent.py:697: ConvergenceWarning: Objective did not converge. You might want to increase the number of iterations, check the scale of the features or consider increasing regularisation. Duality gap: 1.546e+12, tolerance: 1.003e+09\n",
      "  model = cd_fast.enet_coordinate_descent(\n",
      "/opt/anaconda3/lib/python3.12/site-packages/sklearn/linear_model/_coordinate_descent.py:697: ConvergenceWarning: Objective did not converge. You might want to increase the number of iterations, check the scale of the features or consider increasing regularisation. Duality gap: 1.545e+12, tolerance: 1.001e+09\n",
      "  model = cd_fast.enet_coordinate_descent(\n",
      "/opt/anaconda3/lib/python3.12/site-packages/sklearn/linear_model/_coordinate_descent.py:697: ConvergenceWarning: Objective did not converge. You might want to increase the number of iterations, check the scale of the features or consider increasing regularisation. Duality gap: 1.538e+12, tolerance: 9.957e+08\n",
      "  model = cd_fast.enet_coordinate_descent(\n",
      "/opt/anaconda3/lib/python3.12/site-packages/sklearn/linear_model/_coordinate_descent.py:697: ConvergenceWarning: Objective did not converge. You might want to increase the number of iterations, check the scale of the features or consider increasing regularisation. Duality gap: 1.515e+11, tolerance: 1.003e+09\n",
      "  model = cd_fast.enet_coordinate_descent(\n",
      "/opt/anaconda3/lib/python3.12/site-packages/sklearn/linear_model/_coordinate_descent.py:697: ConvergenceWarning: Objective did not converge. You might want to increase the number of iterations, check the scale of the features or consider increasing regularisation. Duality gap: 9.122e+10, tolerance: 1.003e+09\n",
      "  model = cd_fast.enet_coordinate_descent(\n",
      "/opt/anaconda3/lib/python3.12/site-packages/sklearn/linear_model/_coordinate_descent.py:697: ConvergenceWarning: Objective did not converge. You might want to increase the number of iterations, check the scale of the features or consider increasing regularisation. Duality gap: 1.326e+12, tolerance: 1.006e+09\n",
      "  model = cd_fast.enet_coordinate_descent(\n",
      "/opt/anaconda3/lib/python3.12/site-packages/sklearn/linear_model/_coordinate_descent.py:697: ConvergenceWarning: Objective did not converge. You might want to increase the number of iterations, check the scale of the features or consider increasing regularisation. Duality gap: 1.555e+12, tolerance: 1.001e+09\n",
      "  model = cd_fast.enet_coordinate_descent(\n",
      "/opt/anaconda3/lib/python3.12/site-packages/sklearn/linear_model/_coordinate_descent.py:697: ConvergenceWarning: Objective did not converge. You might want to increase the number of iterations, check the scale of the features or consider increasing regularisation. Duality gap: 1.337e+12, tolerance: 9.957e+08\n",
      "  model = cd_fast.enet_coordinate_descent(\n",
      "/opt/anaconda3/lib/python3.12/site-packages/sklearn/linear_model/_coordinate_descent.py:697: ConvergenceWarning: Objective did not converge. You might want to increase the number of iterations, check the scale of the features or consider increasing regularisation. Duality gap: 1.554e+12, tolerance: 1.003e+09\n",
      "  model = cd_fast.enet_coordinate_descent(\n",
      "/opt/anaconda3/lib/python3.12/site-packages/sklearn/linear_model/_coordinate_descent.py:697: ConvergenceWarning: Objective did not converge. You might want to increase the number of iterations, check the scale of the features or consider increasing regularisation. Duality gap: 1.559e+12, tolerance: 1.006e+09\n",
      "  model = cd_fast.enet_coordinate_descent(\n",
      "/opt/anaconda3/lib/python3.12/site-packages/sklearn/linear_model/_coordinate_descent.py:697: ConvergenceWarning: Objective did not converge. You might want to increase the number of iterations, check the scale of the features or consider increasing regularisation. Duality gap: 3.655e+11, tolerance: 1.252e+09\n",
      "  model = cd_fast.enet_coordinate_descent(\n"
     ]
    },
    {
     "data": {
      "text/html": [
       "<div>\n",
       "<style scoped>\n",
       "    .dataframe tbody tr th:only-of-type {\n",
       "        vertical-align: middle;\n",
       "    }\n",
       "\n",
       "    .dataframe tbody tr th {\n",
       "        vertical-align: top;\n",
       "    }\n",
       "\n",
       "    .dataframe thead th {\n",
       "        text-align: right;\n",
       "    }\n",
       "</style>\n",
       "<table border=\"1\" class=\"dataframe\">\n",
       "  <thead>\n",
       "    <tr style=\"text-align: right;\">\n",
       "      <th></th>\n",
       "      <th>model</th>\n",
       "      <th>best_score_</th>\n",
       "      <th>best_params_</th>\n",
       "    </tr>\n",
       "  </thead>\n",
       "  <tbody>\n",
       "    <tr>\n",
       "      <th>0</th>\n",
       "      <td>linear_regression</td>\n",
       "      <td>0.691917</td>\n",
       "      <td>{'fit_intercept': True}</td>\n",
       "    </tr>\n",
       "    <tr>\n",
       "      <th>1</th>\n",
       "      <td>lasso</td>\n",
       "      <td>0.691905</td>\n",
       "      <td>{'alpha': 0.1, 'selection': 'cyclic'}</td>\n",
       "    </tr>\n",
       "    <tr>\n",
       "      <th>2</th>\n",
       "      <td>decision_tree</td>\n",
       "      <td>0.686209</td>\n",
       "      <td>{'criterion': 'friedman_mse', 'splitter': 'ran...</td>\n",
       "    </tr>\n",
       "  </tbody>\n",
       "</table>\n",
       "</div>"
      ],
      "text/plain": [
       "               model  best_score_  \\\n",
       "0  linear_regression     0.691917   \n",
       "1              lasso     0.691905   \n",
       "2      decision_tree     0.686209   \n",
       "\n",
       "                                        best_params_  \n",
       "0                            {'fit_intercept': True}  \n",
       "1              {'alpha': 0.1, 'selection': 'cyclic'}  \n",
       "2  {'criterion': 'friedman_mse', 'splitter': 'ran...  "
      ]
     },
     "execution_count": 124,
     "metadata": {},
     "output_type": "execute_result"
    }
   ],
   "source": [
    "#define function to test different models using GridSearchCV for parameter tuning\n",
    "def find_best_model_using_gridsearchcv(X, y):\n",
    "    algorithms = {\n",
    "        'linear_regression': {\n",
    "            'model': LinearRegression(),\n",
    "            'params': {\n",
    "                'fit_intercept': [True, False]\n",
    "            }\n",
    "        },\n",
    "        'lasso': {\n",
    "            'model': Lasso(),\n",
    "            'params': {\n",
    "                'alpha': [0.1, 1],  # Adjusted alpha values\n",
    "                'selection': ['random', 'cyclic']\n",
    "            }\n",
    "        },\n",
    "        'decision_tree': {\n",
    "            'model': DecisionTreeRegressor(),\n",
    "            'params': {\n",
    "                'criterion': ['squared_error', 'friedman_mse'],\n",
    "                'splitter': ['best', 'random']\n",
    "            }\n",
    "        },\n",
    "    }\n",
    "    \n",
    "    scores = []\n",
    "    cv = ShuffleSplit(n_splits=5, test_size=0.2, random_state=0)\n",
    "\n",
    "    for algo_name, config in algorithms.items():\n",
    "        try:\n",
    "            gs = GridSearchCV(config['model'], config['params'], cv=cv,\n",
    "                              return_train_score=False, n_jobs=-1)\n",
    "            gs.fit(X, y)\n",
    "            scores.append({\n",
    "                'model': algo_name,\n",
    "                'best_score_': gs.best_score_,\n",
    "                'best_params_': gs.best_params_\n",
    "            })\n",
    "        except Exception as e:\n",
    "            print(f\"Error in {algo_name}: {e}\")\n",
    "\n",
    "    return pd.DataFrame(scores)\n",
    "\n",
    "# Call the function\n",
    "results = find_best_model_using_gridsearchcv(x_nonvintage, y_nonvintage)\n",
    "results\n"
   ]
  },
  {
   "cell_type": "code",
   "execution_count": 126,
   "id": "9b268a9d-313a-47d7-b646-271c67096c1f",
   "metadata": {},
   "outputs": [
    {
     "data": {
      "text/html": [
       "<div>\n",
       "<style scoped>\n",
       "    .dataframe tbody tr th:only-of-type {\n",
       "        vertical-align: middle;\n",
       "    }\n",
       "\n",
       "    .dataframe tbody tr th {\n",
       "        vertical-align: top;\n",
       "    }\n",
       "\n",
       "    .dataframe thead th {\n",
       "        text-align: right;\n",
       "    }\n",
       "</style>\n",
       "<table border=\"1\" class=\"dataframe\">\n",
       "  <thead>\n",
       "    <tr style=\"text-align: right;\">\n",
       "      <th></th>\n",
       "      <th>model</th>\n",
       "      <th>best_score_</th>\n",
       "      <th>best_params_</th>\n",
       "    </tr>\n",
       "  </thead>\n",
       "  <tbody>\n",
       "    <tr>\n",
       "      <th>0</th>\n",
       "      <td>random_forest</td>\n",
       "      <td>0.822681</td>\n",
       "      <td>{'n_estimators': 100}</td>\n",
       "    </tr>\n",
       "    <tr>\n",
       "      <th>1</th>\n",
       "      <td>xgboost</td>\n",
       "      <td>0.804123</td>\n",
       "      <td>{'max_depth': 5, 'n_estimators': 200}</td>\n",
       "    </tr>\n",
       "  </tbody>\n",
       "</table>\n",
       "</div>"
      ],
      "text/plain": [
       "           model  best_score_                           best_params_\n",
       "0  random_forest     0.822681                  {'n_estimators': 100}\n",
       "1        xgboost     0.804123  {'max_depth': 5, 'n_estimators': 200}"
      ]
     },
     "execution_count": 126,
     "metadata": {},
     "output_type": "execute_result"
    }
   ],
   "source": [
    "\n",
    "def find_best_model_using_gridsearchcv(X, y):\n",
    "    algorithms = {\n",
    "        'random_forest': {\n",
    "            'model': RandomForestRegressor(),\n",
    "            'params': {\n",
    "                'n_estimators': [50,100]}}\n",
    "        ,\n",
    "\n",
    "        'xgboost': {\n",
    "            'model': xgb.XGBRegressor(),\n",
    "            'params':{\n",
    "                'n_estimators': [100, 200], \n",
    "                'max_depth': [3, 5]}}}\n",
    "    \n",
    "    scores = []\n",
    "    cv = ShuffleSplit(n_splits=5, test_size=0.2, random_state=0)\n",
    "\n",
    "    for algo_name, config in algorithms.items():\n",
    "        try:\n",
    "            gs = GridSearchCV(config['model'], config['params'], cv=cv,\n",
    "                              return_train_score=False, n_jobs=-1)\n",
    "            gs.fit(X, y)\n",
    "            scores.append({\n",
    "                'model': algo_name,\n",
    "                'best_score_': gs.best_score_,\n",
    "                'best_params_': gs.best_params_\n",
    "            })\n",
    "        except Exception as e:\n",
    "            print(f\"Error in {algo_name}: {e}\")\n",
    "\n",
    "    return pd.DataFrame(scores)\n",
    "\n",
    "# Call the function \n",
    "results_ = find_best_model_using_gridsearchcv(x_nonvintage, y_nonvintage)\n",
    "results_\n"
   ]
  },
  {
   "cell_type": "markdown",
   "id": "2198c3e6-0aca-49e4-822f-cc56d9d94baf",
   "metadata": {},
   "source": [
    "Random Forest has the best performance with a score of 82%"
   ]
  },
  {
   "cell_type": "code",
   "execution_count": 128,
   "id": "9f20c297-c6a2-46f2-9224-58828c8e650e",
   "metadata": {},
   "outputs": [
    {
     "data": {
      "text/plain": [
       "0.8188879990432555"
      ]
     },
     "execution_count": 128,
     "metadata": {},
     "output_type": "execute_result"
    }
   ],
   "source": [
    "rf= RandomForestRegressor(n_jobs=-1)\n",
    "rf.fit(x_nonvintage_train, y_nonvintage_train)\n",
    "rf.score(x_nonvintage_test, y_nonvintage_test)"
   ]
  },
  {
   "cell_type": "code",
   "execution_count": 129,
   "id": "1e1135b1-abfd-4962-83f4-3e9ee3f0e040",
   "metadata": {},
   "outputs": [
    {
     "data": {
      "text/html": [
       "<div>\n",
       "<style scoped>\n",
       "    .dataframe tbody tr th:only-of-type {\n",
       "        vertical-align: middle;\n",
       "    }\n",
       "\n",
       "    .dataframe tbody tr th {\n",
       "        vertical-align: top;\n",
       "    }\n",
       "\n",
       "    .dataframe thead th {\n",
       "        text-align: right;\n",
       "    }\n",
       "</style>\n",
       "<table border=\"1\" class=\"dataframe\">\n",
       "  <thead>\n",
       "    <tr style=\"text-align: right;\">\n",
       "      <th></th>\n",
       "      <th>manufacturer</th>\n",
       "      <th>paint_color</th>\n",
       "      <th>state</th>\n",
       "      <th>transmission</th>\n",
       "      <th>drive</th>\n",
       "      <th>fuel</th>\n",
       "      <th>condition</th>\n",
       "      <th>odometer</th>\n",
       "      <th>vehicle_age</th>\n",
       "    </tr>\n",
       "  </thead>\n",
       "  <tbody>\n",
       "    <tr>\n",
       "      <th>0</th>\n",
       "      <td>0.089665</td>\n",
       "      <td>0.030273</td>\n",
       "      <td>0.062483</td>\n",
       "      <td>0.014526</td>\n",
       "      <td>0.123813</td>\n",
       "      <td>0.050787</td>\n",
       "      <td>0.02187</td>\n",
       "      <td>0.189322</td>\n",
       "      <td>0.417261</td>\n",
       "    </tr>\n",
       "  </tbody>\n",
       "</table>\n",
       "</div>"
      ],
      "text/plain": [
       "   manufacturer  paint_color     state  transmission     drive      fuel  \\\n",
       "0      0.089665     0.030273  0.062483      0.014526  0.123813  0.050787   \n",
       "\n",
       "   condition  odometer  vehicle_age  \n",
       "0    0.02187  0.189322     0.417261  "
      ]
     },
     "execution_count": 129,
     "metadata": {},
     "output_type": "execute_result"
    }
   ],
   "source": [
    "#check feature importance using generated random forest \n",
    "imp=rf.feature_importances_\n",
    "col= x_nonvintage_train.columns\n",
    "imp_df= pd.DataFrame([imp], columns=col) \n",
    "\n",
    "#sum all the levels within each category\n",
    "manufacturer= imp_df.loc[:,'acura':'volvo'].sum(axis=1).values[0]\n",
    "paint_color= imp_df.loc[:,'black':'yellow'].sum(axis=1).values[0]\n",
    "state= imp_df.loc[:,'ak':'wy'].sum(axis=1).values[0]\n",
    "transmission= imp_df.loc[:,'automatic':'manual'].sum(axis=1).values[0]\n",
    "drive= imp_df.loc[:,'4wd':'fwd'].sum(axis=1).values[0]\n",
    "fuel= imp_df.loc[:,'diesel':'hybrid'].sum(axis=1).values[0]\n",
    "condition= imp_df.loc[:,'excellent':'new'].sum(axis=1).values[0]\n",
    "\n",
    "imp= pd.DataFrame({ 'manufacturer': [manufacturer], 'paint_color' : [paint_color], 'state': [state], \n",
    "                   'transmission': [transmission], 'drive': [drive], 'fuel': [fuel], 'condition': [condition]})\n",
    "\n",
    "\n",
    "pd.concat([imp, imp_df.iloc[:,:2] ], axis=1)"
   ]
  },
  {
   "cell_type": "markdown",
   "id": "5e2eaa01-a4cc-4a21-a713-b73fe4800798",
   "metadata": {},
   "source": [
    "We will remove features with less than 5% significancce: paint_color, transmission, condition"
   ]
  },
  {
   "cell_type": "code",
   "execution_count": 131,
   "id": "dd6f81fb-daac-4eb4-9301-6c08d21636e4",
   "metadata": {},
   "outputs": [],
   "source": [
    "#select columns to be removed\n",
    "trans= x_nonvintage_train.loc[:,'automatic':'manual'].columns.tolist()\n",
    "color= x_nonvintage_train.loc[:,'black':'yellow'].columns.tolist()\n",
    "cond= x_nonvintage_train.loc[:,'excellent':'new'].columns.tolist()\n",
    "\n",
    "#combine those columns\n",
    "col_remove= trans+color+cond\n",
    "\n",
    "#modify both train and test sets\n",
    "x_nonvintage_reduced =x_nonvintage.drop(columns= col_remove)\n",
    "y_nonvintage_reduced =y_nonvintage.drop(columns= col_remove)\n",
    "x_nonvintage_train_reduced =x_nonvintage_train.drop(columns= col_remove)\n",
    "x_nonvintage_test_reduced= x_nonvintage_test.drop(columns= col_remove)\n",
    "y_nonvintage_train_reduced =y_nonvintage_train.drop(columns= col_remove)\n",
    "y_nonvintage_test_reduced= y_nonvintage_test.drop(columns= col_remove)"
   ]
  },
  {
   "cell_type": "markdown",
   "id": "6a4f22c6-4735-4f8e-9302-e92041e4766f",
   "metadata": {},
   "source": [
    "Implement Random Forest on the reduced data"
   ]
  },
  {
   "cell_type": "code",
   "execution_count": 133,
   "id": "8176c48d-11b7-4a1d-809d-519b42a941c2",
   "metadata": {},
   "outputs": [
    {
     "data": {
      "text/plain": [
       "0.796924003270452"
      ]
     },
     "execution_count": 133,
     "metadata": {},
     "output_type": "execute_result"
    }
   ],
   "source": [
    "rf_reduced= RandomForestRegressor(n_jobs=-1)\n",
    "rf_reduced.fit(x_nonvintage_train_reduced, y_nonvintage_train_reduced)\n",
    "rf_reduced.score(x_nonvintage_test_reduced, y_nonvintage_test_reduced)"
   ]
  },
  {
   "cell_type": "markdown",
   "id": "030e3a05-b2c5-41ee-92f2-6c27c1d0585f",
   "metadata": {},
   "source": [
    "Model performance did not improve after removing insignificant features."
   ]
  },
  {
   "cell_type": "code",
   "execution_count": 135,
   "id": "49b4ba07-3e8f-4df5-9787-eacbaa953518",
   "metadata": {},
   "outputs": [
    {
     "data": {
      "text/plain": [
       "array([0.78394425, 0.78353012, 0.78449309, 0.78572464, 0.7860465 ])"
      ]
     },
     "execution_count": 135,
     "metadata": {},
     "output_type": "execute_result"
    }
   ],
   "source": [
    "# try with the second best model: xgboost\n",
    "\n",
    "cv= ShuffleSplit(n_splits= 5, test_size=0.2, random_state=0)\n",
    "\n",
    "cross_val_score(xgb.XGBRegressor(n_jobs=-1), x_nonvintage_reduced, y_nonvintage_reduced, cv=cv)"
   ]
  },
  {
   "cell_type": "markdown",
   "id": "cb9a9449-924a-4abe-8a58-97cd38d0d587",
   "metadata": {},
   "source": [
    "Removing features did not improve our model. We will keep all features"
   ]
  },
  {
   "cell_type": "markdown",
   "id": "73ee3218-43ae-439f-ac96-ca259b4a0f65",
   "metadata": {},
   "source": [
    "# Testing our chosen Model"
   ]
  },
  {
   "cell_type": "code",
   "execution_count": 138,
   "id": "2771358a-138c-4a6e-a6c1-e8ebc6478214",
   "metadata": {},
   "outputs": [
    {
     "data": {
      "text/plain": [
       "0.8195194967617228"
      ]
     },
     "execution_count": 138,
     "metadata": {},
     "output_type": "execute_result"
    }
   ],
   "source": [
    "rf= RandomForestRegressor(n_jobs=-1)\n",
    "rf.fit(x_nonvintage_train, y_nonvintage_train)\n",
    "rf.score(x_nonvintage_test, y_nonvintage_test)"
   ]
  },
  {
   "cell_type": "code",
   "execution_count": 139,
   "id": "b05fdc14-5881-43f5-8f64-f6c5ad361911",
   "metadata": {},
   "outputs": [],
   "source": [
    "def predict_price(manufacturer, condition, fuel, odometer, transmission, drive, paint_color, state, vehicle_age):\n",
    "    # Initialize an array of the size of all the columns in x_nonvintage\n",
    "    x = np.zeros(len(x_nonvintage.columns)) \n",
    "\n",
    "    #set first two indices to our numeric features\n",
    "    x[0] = odometer              \n",
    "    x[1] = vehicle_age\n",
    "\n",
    "    # list of categorical features\n",
    "    features = [state, manufacturer, condition, fuel, transmission, paint_color, drive]\n",
    "    \n",
    "    # for all categores in a categorical feature, loop over the categories\n",
    "    for category in features:\n",
    "        \n",
    "        # Check if the category is in our data x_nonvintage\n",
    "        if category in x_nonvintage.columns:\n",
    "            \n",
    "            # Get the index for the one hot encoded category in that data\n",
    "            idx = np.where(x_nonvintage.columns == category)[0][0]\n",
    "\n",
    "            #set that category index=1 (categories for that categorical feature that are not in x_nonvintage will be 0)\n",
    "            x[idx] = 1\n",
    "       \n",
    "    # prediction\n",
    "    return rf.predict([x])[0]\n"
   ]
  },
  {
   "cell_type": "code",
   "execution_count": 173,
   "id": "bdc396ba-85c9-437f-977f-b1a867f2fb64",
   "metadata": {},
   "outputs": [
    {
     "name": "stderr",
     "output_type": "stream",
     "text": [
      "/opt/anaconda3/lib/python3.12/site-packages/sklearn/base.py:493: UserWarning: X does not have valid feature names, but RandomForestRegressor was fitted with feature names\n",
      "  warnings.warn(\n"
     ]
    },
    {
     "data": {
      "text/plain": [
       "19032.39"
      ]
     },
     "execution_count": 173,
     "metadata": {},
     "output_type": "execute_result"
    }
   ],
   "source": [
    "predict_price('bmw', 'like-new', 'diesel', 120000, 'automatic', '4wd', 'black', 'la', 5)"
   ]
  },
  {
   "cell_type": "code",
   "execution_count": 175,
   "id": "ed4794ad-a296-4808-977b-1ddabdc75cc7",
   "metadata": {},
   "outputs": [
    {
     "name": "stderr",
     "output_type": "stream",
     "text": [
      "/opt/anaconda3/lib/python3.12/site-packages/sklearn/base.py:493: UserWarning: X does not have valid feature names, but RandomForestRegressor was fitted with feature names\n",
      "  warnings.warn(\n"
     ]
    },
    {
     "data": {
      "text/plain": [
       "20898.346666666665"
      ]
     },
     "execution_count": 175,
     "metadata": {},
     "output_type": "execute_result"
    }
   ],
   "source": [
    "predict_price('bmw', 'good', 'diesel', 120000, 'automatic', '4wd', 'black', 'la', 3)"
   ]
  },
  {
   "cell_type": "code",
   "execution_count": 177,
   "id": "a5f0ff06-aa0a-4551-95e7-a00076b9cb01",
   "metadata": {},
   "outputs": [
    {
     "name": "stderr",
     "output_type": "stream",
     "text": [
      "/opt/anaconda3/lib/python3.12/site-packages/sklearn/base.py:493: UserWarning: X does not have valid feature names, but RandomForestRegressor was fitted with feature names\n",
      "  warnings.warn(\n"
     ]
    },
    {
     "data": {
      "text/plain": [
       "28201.78"
      ]
     },
     "execution_count": 177,
     "metadata": {},
     "output_type": "execute_result"
    }
   ],
   "source": [
    "predict_price('bmw', 'like-new', 'diesel', 120000, 'automatic', '4wd', 'black', 'ny', 5)"
   ]
  },
  {
   "cell_type": "code",
   "execution_count": 179,
   "id": "f94b7cc8-a8a5-4640-94e4-abaa5760b905",
   "metadata": {},
   "outputs": [
    {
     "name": "stderr",
     "output_type": "stream",
     "text": [
      "/opt/anaconda3/lib/python3.12/site-packages/sklearn/base.py:493: UserWarning: X does not have valid feature names, but RandomForestRegressor was fitted with feature names\n",
      "  warnings.warn(\n"
     ]
    },
    {
     "data": {
      "text/plain": [
       "31265.77"
      ]
     },
     "execution_count": 179,
     "metadata": {},
     "output_type": "execute_result"
    }
   ],
   "source": [
    "predict_price('bmw', 'good', 'diesel', 120000, 'automatic', '4wd', 'black', 'ny', 3)"
   ]
  },
  {
   "cell_type": "markdown",
   "id": "b28b23db-4cf9-454e-ab3b-5c7890363d4c",
   "metadata": {},
   "source": [
    "\n",
    "\n"
   ]
  },
  {
   "cell_type": "code",
   "execution_count": 181,
   "id": "18d4286a-0b3d-403e-88b5-e0297b0ea14a",
   "metadata": {},
   "outputs": [],
   "source": [
    "import pickle\n",
    "with open('/Users/marwa/Desktop/2ndHCP/model/rf_model', 'wb') as f:\n",
    "    pickle.dump(rf, f)"
   ]
  },
  {
   "cell_type": "code",
   "execution_count": 183,
   "id": "9f00c8dc-b019-4a57-a2e6-19bc21592455",
   "metadata": {},
   "outputs": [],
   "source": [
    "import json\n",
    "columns = {\n",
    "    'data_columns' : [col.lower() for col in x_nonvintage.columns]\n",
    "}\n",
    "\n",
    "with open('/Users/marwa/Desktop/2ndHCP/model/columns', 'w') as f:\n",
    "    f.write(json.dumps(columns))"
   ]
  }
 ],
 "metadata": {
  "kernelspec": {
   "display_name": "Python 3 (ipykernel)",
   "language": "python",
   "name": "python3"
  },
  "language_info": {
   "codemirror_mode": {
    "name": "ipython",
    "version": 3
   },
   "file_extension": ".py",
   "mimetype": "text/x-python",
   "name": "python",
   "nbconvert_exporter": "python",
   "pygments_lexer": "ipython3",
   "version": "3.12.4"
  }
 },
 "nbformat": 4,
 "nbformat_minor": 5
}
